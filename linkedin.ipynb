{
 "cells": [
  {
   "cell_type": "code",
   "execution_count": null,
   "metadata": {},
   "outputs": [],
   "source": [
    "import time\n",
    "import os\n",
    "from selenium import webdriver\n",
    "from webdriver_manager.chrome import ChromeDriverManager\n",
    "\n",
    "\n",
    "email = os.environ.get('LINKEDIN_EMAIL')\n",
    "password = os.environ.get('LINKEDIN_PASSWORD')\n",
    "\n",
    "driver = webdriver.Chrome(ChromeDriverManager().install())\n",
    "\n",
    "# Open Linkedin\n",
    "driver.get(\"https://www.linkedin.com/login\")\n",
    "\n",
    "# Find the username & password elements & fill it with the email and password stored in env variables\n",
    "driver.find_element_by_id(\"username\").send_keys(email)\n",
    "driver.find_element_by_id(\"password\").send_keys(password)\n",
    "\n",
    "# Get the submit button and click on it\n",
    "driver.find_element_by_css_selector(\".btn__primary--large\").click()\n",
    "\n",
    "# Open invitations page\n",
    "driver.get(\"https://www.linkedin.com/mynetwork/invitation-manager/\")\n",
    "\n",
    "# ----------------- Get all the available invitation's ACCEPT Button    \n",
    "acceptButtons = []\n",
    "while len(acceptButtons)==0:   \n",
    "    acceptButtons = driver.find_elements_by_xpath(\"//button[@class='invitation-card__action-btn artdeco-button artdeco-button--2 artdeco-button--secondary ember-view']\")\n",
    "\n",
    "# Accept connections by clicking the buttons\n",
    "for button in acceptButtons:\n",
    "    button.click()\n",
    "    time.sleep(5)\n",
    "\n",
    "# driver.find_elements_by_class_name()\n",
    "# [\n",
    "#     <selenium.webdriver.remote.webelement.WebElement (session=\"40234d3be141b43e4fdf3bf5b7410d5d\", element=\"445c7df7-501d-4935-9ca6-81a07072a6b6\")>, \n",
    "\n",
    "#     <selenium.webdriver.remote.webelement.WebElement (session=\"40234d3be141b43e4fdf3bf5b7410d5d\", element=\"389f12bd-d2e7-4926-99b1-93199b1f0a7c\")>, \n",
    "    \n",
    "#     <selenium.webdriver.remote.webelement.WebElement (session=\"40234d3be141b43e4fdf3bf5b7410d5d\", element=\"15286099-fbe4-4f74-80be-f0ec3622b8b7\")>\n",
    "# ]"
   ]
  }
 ],
 "metadata": {
  "kernelspec": {
   "display_name": "Python 3",
   "language": "python",
   "name": "python3"
  },
  "language_info": {
   "codemirror_mode": {
    "name": "ipython",
    "version": 3
   },
   "file_extension": ".py",
   "mimetype": "text/x-python",
   "name": "python",
   "nbconvert_exporter": "python",
   "pygments_lexer": "ipython3",
   "version": "3.7.0"
  }
 },
 "nbformat": 4,
 "nbformat_minor": 2
}
